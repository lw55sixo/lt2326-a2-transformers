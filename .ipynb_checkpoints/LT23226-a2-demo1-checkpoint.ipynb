{
 "cells": [
  {
   "cell_type": "markdown",
   "id": "aef19a7a-df72-41d5-957d-eb4591cf0f24",
   "metadata": {},
   "source": [
    "# Demo 1 - Cats and Horses\n",
    "\n",
    "## Part 1 – Transformers and Image Classification (7 points)\n",
    "\n",
    "Here we want to compare how Transformers perform when compared to other kinds of networks for image classification, such as CNNs. Follow the tutorial [here](https://huggingface.co/docs/transformers/tasks/image_classification) in order to implement an image classification model.\n",
    "\n",
    "The tutorial uses a model called ViT (Visual Transformer), which was the first transformer model to perform better at image classification than a CNN did."
   ]
  },
  {
   "cell_type": "code",
   "execution_count": null,
   "id": "b0c94182-1071-4734-bd00-68a8f33e441b",
   "metadata": {},
   "outputs": [],
   "source": []
  },
  {
   "cell_type": "markdown",
   "id": "2b695710-d1b6-4bb7-97d1-f45c8a613ef7",
   "metadata": {},
   "source": [
    "## Part 2 – Using the COCO dataset (8 points)\n",
    "\n",
    "The HuggingFace tutorial uses one of the datasets in its datasets package. We would like it to be able to be used with the data that we were using in our demo notebook.\n",
    "\n",
    "Create/modify your own dataloader so that we can use the ViT model to differentiate the cats and horses found in the COCO dataset (i.e. the one from the demo notebook)."
   ]
  },
  {
   "cell_type": "code",
   "execution_count": null,
   "id": "c1946999-9c0d-4a37-a841-d3872fe0744b",
   "metadata": {},
   "outputs": [],
   "source": []
  },
  {
   "cell_type": "markdown",
   "id": "01a216e9-0865-4838-860a-465a27fd6367",
   "metadata": {},
   "source": [
    "## Part 3 – Multiclass Classification (8 points)\n",
    "\n",
    "The original task was only with binary classification. Get it to do multiclass classification, preferably on similar kinds of targets (like the cats and horses example, as opposed to cats and airplanes). You can find a list of categories for the dataset [here](https://tech.amikelive.com/node-718/what-object-categories-labels-are-in-coco-dataset/).\n",
    "\n",
    "Do this both for the original CNN model and for the ViT model."
   ]
  },
  {
   "cell_type": "code",
   "execution_count": null,
   "id": "665a829a-01e0-49ad-91f2-073ae6e62cc8",
   "metadata": {},
   "outputs": [],
   "source": []
  },
  {
   "cell_type": "markdown",
   "id": "21555f36-992e-498f-a247-41389f0861e0",
   "metadata": {},
   "source": [
    "## Part 4 – How does the classification work now? (7 points)\n",
    "\n",
    "Do a comparison of the models, both quantitative and qualitative. How does the models’ performances vary from each other? Is one of the models better at specific things than the other? Or is one of them much better than the other? Moreover, are these differences the same between both the binary classification task and in a multiclass classification task?"
   ]
  },
  {
   "cell_type": "code",
   "execution_count": null,
   "id": "cba9a6e6-8dce-43d6-bb30-a08a172d4353",
   "metadata": {},
   "outputs": [],
   "source": []
  }
 ],
 "metadata": {
  "kernelspec": {
   "display_name": "Python 3 (ipykernel)",
   "language": "python",
   "name": "python3"
  },
  "language_info": {
   "codemirror_mode": {
    "name": "ipython",
    "version": 3
   },
   "file_extension": ".py",
   "mimetype": "text/x-python",
   "name": "python",
   "nbconvert_exporter": "python",
   "pygments_lexer": "ipython3",
   "version": "3.11.6"
  }
 },
 "nbformat": 4,
 "nbformat_minor": 5
}
