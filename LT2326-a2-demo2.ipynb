{
 "cells": [
  {
   "cell_type": "markdown",
   "id": "fca4405e-a4d0-4dd6-a868-84ba0c3c84f7",
   "metadata": {},
   "source": [
    "# Demo 2 - Chinese Word Segmentation\n",
    "\n",
    "## Part 1 – Transformers for Sequence Classification (7 points)\n",
    "\n",
    "Here we want to compare how Transformers work when compared to other kinds of sequence to sequence networks, such as LSTMs. Follow the tutorial [here](https://huggingface.co/docs/transformers/tasks/token_classification) in order to implement a token classification model.\n",
    "\n",
    "The tutorial uses DistilBERT, a smaller version of BERT designed to be used when we have less memory available. BERT itself is one of the most popular Transformer models both for sequence and for token classification."
   ]
  },
  {
   "cell_type": "code",
   "execution_count": null,
   "id": "28857ecb-4eaf-491e-a9dc-088be7c19301",
   "metadata": {},
   "outputs": [],
   "source": []
  },
  {
   "cell_type": "markdown",
   "id": "f2d2b4c2-847f-4196-a17f-82c89a3f994b",
   "metadata": {},
   "source": [
    "## Part 2 – Using BERT with Our Data (16 points)\n",
    "\n",
    "The huggingface tutorial uses both an English dataset and a model pretrained in English. Change the code so that it can use the CONLL-U dataset from the demo notebook.\n",
    "\n",
    "One of the major issues that you might find is that just changing the dataset will not yield the results we would expect. Because of that, you might also have to change the model you’re using. I wasn’t able to find a reasonably documented version of DistilBERT for Chinese, but HuggingFace has a [Chinese BERT](https://huggingface.co/bert-base-chinese') available.\n",
    "\n",
    "Another thing to keep in mind is that BERT already segments the words as it things they should be segmented, so you will probably have to find a workaround in order to avoid the task being trivial (and to get a single label from each of your characters)."
   ]
  },
  {
   "cell_type": "code",
   "execution_count": null,
   "id": "2367b2b3-0f12-4f16-9f50-03f56281a663",
   "metadata": {},
   "outputs": [],
   "source": []
  },
  {
   "cell_type": "markdown",
   "id": "2d3d042b-bc38-4434-99e3-1ee3f9aaf4bd",
   "metadata": {},
   "source": [
    "## Part 3 – Performance Analysis (7 points)\n",
    "\n",
    "Do a comparison between both models and how differently they perform. We are assuming that most of you don’t read Chinese, so we are not expecting much in the area of qualitative analysis."
   ]
  },
  {
   "cell_type": "code",
   "execution_count": null,
   "id": "fe6965c4-e8b0-4621-9c96-f770f410deb7",
   "metadata": {},
   "outputs": [],
   "source": []
  }
 ],
 "metadata": {
  "kernelspec": {
   "display_name": "Python 3 (ipykernel)",
   "language": "python",
   "name": "python3"
  },
  "language_info": {
   "codemirror_mode": {
    "name": "ipython",
    "version": 3
   },
   "file_extension": ".py",
   "mimetype": "text/x-python",
   "name": "python",
   "nbconvert_exporter": "python",
   "pygments_lexer": "ipython3",
   "version": "3.11.6"
  }
 },
 "nbformat": 4,
 "nbformat_minor": 5
}
